{
 "cells": [
  {
   "cell_type": "code",
   "id": "initial_id",
   "metadata": {
    "collapsed": true,
    "ExecuteTime": {
     "end_time": "2024-06-30T21:03:28.893659Z",
     "start_time": "2024-06-30T21:03:26.435962Z"
    }
   },
   "source": [
    "from skimage.color import label2rgb, rgb2gray\n",
    "from skimage.segmentation import mark_boundaries\n",
    "import numpy as np\n",
    "import os\n",
    "import cv2\n",
    "from glob import glob\n",
    "import matplotlib.pyplot as plt\n",
    "from skimage.morphology import binary_erosion, disk\n",
    "from sklearn.model_selection import train_test_split\n",
    "from skimage.segmentation import felzenszwalb, slic, quickshift, watershed\n",
    "from tqdm import tqdm\n",
    "import cv2\n",
    "import glob\n",
    "from pvtv2 import pvt_v2_b2\n",
    "import torch.nn.functional as F\n",
    "import warnings\n",
    "import torch\n",
    "from torch import nn\n",
    "warnings.filterwarnings('ignore')\n",
    "from torch.utils.data import DataLoader, TensorDataset\n",
    "from PIL import Image\n",
    "import torchvision.transforms as transforms\n",
    "# Check if a GPU is available\n"
   ],
   "outputs": [],
   "execution_count": 1
  },
  {
   "metadata": {
    "ExecuteTime": {
     "end_time": "2024-06-30T21:03:32.556938Z",
     "start_time": "2024-06-30T21:03:30.985894Z"
    }
   },
   "cell_type": "code",
   "source": [
    "# Check if a GPU is available\n",
    "device = torch.device('cuda' if torch.cuda.is_available() else 'cpu')\n",
    "print('Using device:', device)"
   ],
   "id": "5ed1c738a83c5f7",
   "outputs": [
    {
     "name": "stdout",
     "output_type": "stream",
     "text": [
      "Using device: cuda\n"
     ]
    }
   ],
   "execution_count": 2
  },
  {
   "metadata": {},
   "cell_type": "code",
   "outputs": [],
   "execution_count": null,
   "source": "",
   "id": "9d867c92c65dd7cf"
  }
 ],
 "metadata": {
  "kernelspec": {
   "display_name": "Python 3",
   "language": "python",
   "name": "python3"
  },
  "language_info": {
   "codemirror_mode": {
    "name": "ipython",
    "version": 2
   },
   "file_extension": ".py",
   "mimetype": "text/x-python",
   "name": "python",
   "nbconvert_exporter": "python",
   "pygments_lexer": "ipython2",
   "version": "2.7.6"
  }
 },
 "nbformat": 4,
 "nbformat_minor": 5
}
