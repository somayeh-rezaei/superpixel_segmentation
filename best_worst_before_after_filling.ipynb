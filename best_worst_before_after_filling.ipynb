{
 "cells": [
  {
   "cell_type": "code",
   "id": "initial_id",
   "metadata": {
    "collapsed": true,
    "ExecuteTime": {
     "end_time": "2024-04-16T23:27:24.780266Z",
     "start_time": "2024-04-16T23:27:24.771419Z"
    }
   },
   "source": [
    "import cv2\n",
    "import os\n",
    "import glob\n",
    "import matplotlib.pyplot as plt\n",
    "from sklearn.model_selection import train_test_split\n",
    "from tqdm import tqdm\n",
    "from pvtv2 import pvt_v2_b2\n",
    "import torch.nn.functional as F\n",
    "import warnings\n",
    "import torch\n",
    "from torch import nn\n",
    "warnings.filterwarnings('ignore')\n",
    "from torch.utils.data import DataLoader, TensorDataset\n",
    "from PIL import Image\n",
    "import torchvision.transforms as transforms\n",
    "from skimage.color import label2rgb, rgb2gray\n",
    "from skimage.segmentation import mark_boundaries\n",
    "import numpy as np\n",
    "import cv2\n",
    "import glob\n",
    "from skimage.morphology import binary_erosion, disk\n",
    "from skimage.segmentation import slic\n",
    "import keras.backend as K\n",
    "from skimage.color import label2rgb, rgb2gray\n",
    "from skimage.segmentation import mark_boundaries\n",
    "import tensorflow as tf\n",
    "import os\n",
    "import cv2\n",
    "import glob\n",
    "from keras.layers import *\n",
    "from keras.callbacks import ModelCheckpoint, EarlyStopping, ReduceLROnPlateau\n",
    "from sklearn.model_selection import train_test_split\n",
    "from skimage.morphology import binary_erosion, disk\n",
    "from skimage.segmentation import felzenszwalb, slic, quickshift, watershed\n",
    "from keras.callbacks import TensorBoard\n",
    "from keras.layers import Input, Conv2D, MaxPooling2D, Conv2DTranspose, concatenate\n",
    "from keras.models import Model\n",
    "from keras import layers"
   ],
   "outputs": [],
   "execution_count": 112
  },
  {
   "metadata": {
    "ExecuteTime": {
     "end_time": "2024-04-16T23:27:42.114508Z",
     "start_time": "2024-04-16T23:27:42.108662Z"
    }
   },
   "cell_type": "code",
   "source": [
    "# image_paths = glob.glob('/home/somayeh/PycharmProjects/superpixel_segmentation/best_worst/breast/original image/*.png')\n",
    "# mask_paths = glob.glob('/home/somayeh/PycharmProjects/superpixel_segmentation/best_worst/breast/original_mask/*.png')\n",
    "# image_paths = glob.glob('/home/somayeh/PycharmProjects/superpixel_segmentation/best_worst/chest/original_image/*.png')\n",
    "# mask_paths = glob.glob('/home/somayeh/PycharmProjects/superpixel_segmentation/best_worst/chest/original_mask/*.png')\n",
    "\n",
    "# image_paths = glob.glob('/home/somayeh/PycharmProjects/superpixel_segmentation/best_worst/skin/original_image/*.png')\n",
    "# mask_paths = glob.glob('/home/somayeh/PycharmProjects/superpixel_segmentation/best_worst/skin/original_mask/*.png')\n",
    "image_paths = glob.glob('/home/somayeh/PycharmProjects/superpixel_segmentation/boundary_pixels/breast/original_image/*.png')\n",
    "mask_paths = glob.glob('/home/somayeh/PycharmProjects/superpixel_segmentation/boundary_pixels/breast/original_mask/*.png')\n"
   ],
   "id": "287906ac004090ea",
   "outputs": [],
   "execution_count": 113
  },
  {
   "metadata": {
    "ExecuteTime": {
     "end_time": "2024-04-16T23:27:45.185765Z",
     "start_time": "2024-04-16T23:27:45.141790Z"
    }
   },
   "cell_type": "code",
   "source": [
    "def resize_and_save_images(image_paths, size=(256, 256)):\n",
    "    for path in image_paths:\n",
    "        # Read the image from the path\n",
    "        image = cv2.imread(path)\n",
    "        # Resize the image\n",
    "        resized_image = cv2.resize(image, size)\n",
    "        # Save the image back to the same path\n",
    "        cv2.imwrite(path, resized_image)\n",
    "\n",
    "\n",
    "# Resize and save the original images\n",
    "resize_and_save_images(image_paths)\n",
    "\n",
    "# Resize and save the masks\n",
    "resize_and_save_images(mask_paths)"
   ],
   "id": "736bd856927ae03b",
   "outputs": [],
   "execution_count": 114
  },
  {
   "metadata": {
    "ExecuteTime": {
     "end_time": "2024-04-16T23:27:48.281792Z",
     "start_time": "2024-04-16T23:27:48.277997Z"
    }
   },
   "cell_type": "code",
   "source": [
    "# initialize empty arrays to hold the images and masks\n",
    "images = []\n",
    "masks = []\n",
    "images_superpixel = []\n",
    "binary_masks = []\n",
    "masks_superpixel = []\n",
    "masks_result = []\n",
    "binary = []"
   ],
   "id": "1b83686b5de18aa",
   "outputs": [],
   "execution_count": 115
  },
  {
   "metadata": {
    "ExecuteTime": {
     "end_time": "2024-04-16T23:28:14.799769Z",
     "start_time": "2024-04-16T23:28:14.788804Z"
    }
   },
   "cell_type": "code",
   "source": [
    "def create_superpixel_ground_truth(img, ground_truth):\n",
    "\n",
    "    # Perform superpixel segmentation\n",
    "    num_segments = 1200\n",
    "    segments = slic(img, n_segments=num_segments, compactness=10)\n",
    "\n",
    "    image_superpixel = label2rgb(segments, img, kind='avg')\n",
    "    image_superpixel = rgb2gray(image_superpixel)\n",
    "    num_superpixels = len(np.unique(segments))\n",
    "\n",
    "    image_boundaries = mark_boundaries(img, segments, color=(255, 0, 0))\n",
    "    labels = segments.astype(np.int32)\n",
    "\n",
    "    # Overlay superpixels with ground truth\n",
    "    inside_mask = (ground_truth == 255)  # White pixels in ground truth are inside the region\n",
    "    outside_mask = (ground_truth == 0)  # Black pixels in ground truth are outside the region\n",
    "    \n",
    "    \n",
    "\n",
    "    boundary_mask = cv2.morphologyEx(ground_truth, cv2.MORPH_GRADIENT, np.ones((5, 5), np.uint8)) > 0\n",
    "    \n",
    "\n",
    "    inside_superpixels = set(np.unique(labels[inside_mask]))\n",
    "    outside_superpixels = set(np.unique(labels[outside_mask]))\n",
    "    boundary_superpixels = set(np.unique(labels[boundary_mask]))\n",
    "\n",
    "    # Exclude boundary superpixels\n",
    "    valid_superpixels = list(outside_superpixels.union(inside_superpixels) - boundary_superpixels)\n",
    "\n",
    "    for label in boundary_superpixels:\n",
    "        mask = (labels == label)\n",
    "        # Check if the superpixel intersects with the boundary\n",
    "        if np.any(mask[0, :]) or np.any(mask[-1, :]) or np.any(mask[:, 0]) or np.any(mask[:, -1]):\n",
    "            boundary_mask_ = binary_erosion(boundary_mask, disk(3))\n",
    "            valid_superpixels = list(outside_superpixels.union(inside_superpixels) - set(labels[boundary_mask_]))\n",
    "\n",
    "    num_segments_result = len(np.unique(valid_superpixels))\n",
    "\n",
    "    # Assign labels and color superpixels\n",
    "    result = np.zeros_like(img)\n",
    "    inside_labels = []\n",
    "    outside_labels = []\n",
    "    for label in valid_superpixels:\n",
    "        mask = (labels == label)\n",
    "        if label in inside_superpixels:\n",
    "            color = (255, 255, 255)  # Yellow for inside superpixels\n",
    "            inside_labels.append(label)\n",
    "        else:\n",
    "            color = (128, 128, 128)  # Blue for outside superpixels\n",
    "            outside_labels.append(label)\n",
    "        result[mask] = color\n",
    "\n",
    "    # Count superpixels that intersect with the boundary\n",
    "    boundary_intersecting_superpixels = np.unique(labels[boundary_mask])\n",
    "    num_boundary_intersecting_superpixels = len(boundary_intersecting_superpixels)\n",
    "\n",
    "    return result"
   ],
   "id": "86196bef46d7f7a7",
   "outputs": [],
   "execution_count": 116
  },
  {
   "metadata": {
    "ExecuteTime": {
     "end_time": "2024-04-16T23:28:17.588721Z",
     "start_time": "2024-04-16T23:28:17.577794Z"
    }
   },
   "cell_type": "code",
   "source": [
    "def extended_superpixel(img, ground_truth):\n",
    "    # Perform SLIC superpixel segmentation\n",
    "    num_segments = 1200\n",
    "    segments = slic(img, n_segments=num_segments, compactness=10)\n",
    "\n",
    "\n",
    "    # Find superpixels intersecting with the image boundaries\n",
    "    boundary_mask = cv2.morphologyEx(ground_truth, cv2.MORPH_GRADIENT, np.ones((3, 3), np.uint8)) > 0\n",
    "    boundary_superpixels = set(segments[boundary_mask])\n",
    "\n",
    "    # Show the number of superpixels with intersection with image boundaries\n",
    "    num_boundary_superpixels = len(boundary_superpixels)\n",
    "    # print(f'The number of superpixels with intersection with image boundaries: {num_boundary_superpixels}')\n",
    "\n",
    "    # Overlay superpixels with ground truth\n",
    "    labels = segments.astype(np.int32)\n",
    "\n",
    "    inside_mask = (ground_truth == 255)  # white pixels in ground truth are inside the chest region\n",
    "    outside_mask = (ground_truth == 0)  # black pixels in ground truth are outside the chest region\n",
    "\n",
    "    inside_superpixels = set(np.unique(labels[inside_mask]))\n",
    "    outside_superpixels = set(np.unique(labels[outside_mask]))\n",
    "\n",
    "    # Assign labels and color superpixels\n",
    "    result = np.zeros_like(img)\n",
    "    for label in outside_superpixels:\n",
    "        mask = (labels == label)\n",
    "        result[mask] = (0, 0, 0)  # Set label 0 (black) for superpixels outside the boundary\n",
    "\n",
    "    for label in inside_superpixels:\n",
    "        mask = (labels == label)\n",
    "        result[mask] = (255, 255, 255)  # Set label 1 (white) for superpixels inside the boundary\n",
    "\n",
    "    for label in boundary_superpixels:\n",
    "        mask = (labels == label)\n",
    "        num_pixels_inside = np.sum(mask & inside_mask)\n",
    "        num_pixels_outside = np.sum(mask & outside_mask)\n",
    "\n",
    "        if num_pixels_outside > num_pixels_inside:\n",
    "            result[mask] = (0, 0, 0)  # Set label 0 (black) for superpixels with more pixels outside the boundary\n",
    "        elif num_pixels_outside < num_pixels_inside:\n",
    "            result[mask] = (255, 255, 255)  # Set label 1 (white) for superpixels with more pixels inside the boundary\n",
    "        else:\n",
    "            d1 = cv2.distanceTransform((mask & outside_mask).astype(np.uint8), cv2.DIST_L2, 5)\n",
    "            d2 = cv2.distanceTransform((mask & inside_mask).astype(np.uint8), cv2.DIST_L2, 5)\n",
    "\n",
    "            d1_sorted = np.sort(d1[mask & boundary_mask])\n",
    "            d2_sorted = np.sort(d2[mask & boundary_mask])\n",
    "\n",
    "            threshold_idx = len(d1_sorted) // 2\n",
    "            if np.sum(d1_sorted[:threshold_idx]) > np.sum(d1_sorted[threshold_idx:]):\n",
    "                result[mask] = (0, 0, 0)  # Set label 0 (black) for superpixels with larger distance to outside\n",
    "            else:\n",
    "                result[mask] = (255, 255, 255)  # Set label 1 (white) for superpixels with larger distance to inside\n",
    "\n",
    "    # cv2.imshow('Result', result)\n",
    "    # cv2.waitKey(0)\n",
    "    # cv2.destroyAllWindows()\n",
    "\n",
    "    return result"
   ],
   "id": "116c8d01aeacf355",
   "outputs": [],
   "execution_count": 117
  },
  {
   "metadata": {
    "ExecuteTime": {
     "end_time": "2024-04-16T23:29:46.722919Z",
     "start_time": "2024-04-16T23:29:42.972867Z"
    }
   },
   "cell_type": "code",
   "source": [
    "batch_size = 8\n",
    "threshold_value = 128\n",
    "def data_generator(image_paths, mask_paths, batch_size):\n",
    "\n",
    "    assert len(image_paths) == len(mask_paths), \"Number of images and masks must be the same.\"\n",
    "\n",
    "    num_samples = len(image_paths)\n",
    "    print(\"Number of images:\", num_samples)\n",
    "    num_masks = len(mask_paths)\n",
    "    print(\"Number of masks:\", num_masks)\n",
    "\n",
    "    while True:\n",
    "        indices = np.arange(num_samples)\n",
    "        np.random.shuffle(indices)\n",
    "\n",
    "        for i in range(0, num_samples, batch_size):\n",
    "            batch_indices = indices[i : i + batch_size]\n",
    "            batch_images = []\n",
    "            batch_masks = []\n",
    "\n",
    "            for index in batch_indices:\n",
    "                image_path = image_paths[index]\n",
    "                mask_path = mask_paths[index]\n",
    "\n",
    "                img = cv2.imread(image_path)\n",
    "                img = cv2.resize(img, (256, 256))\n",
    "\n",
    "                # filename = os.path.join(\"/home/somayeh/PycharmProjects/superpixel_segmentation/\"\n",
    "                #                         \"newgt/newgt_superpixel_breast_128_slic1200_random_dataset_10percent\", os.path.basename(mask_path))\n",
    "                filename = os.path.join(\"/home/somayeh/PycharmProjects/superpixel_segmentation/boundary_pixels/breast/before_filling\", os.path.basename(mask_path))\n",
    "\n",
    "                if not os.path.exists(filename):\n",
    "\n",
    "                    mask = cv2.imread(mask_path,0)\n",
    "                    mask = cv2.resize(mask, (256, 256))\n",
    "\n",
    "                    result = create_superpixel_ground_truth(img, mask)\n",
    "                    # result = ground_truth_superpixel_3(img, mask)\n",
    "\n",
    "                    # result = cv2.cvtColor(result, cv2.COLOR_BGR2GRAY)\n",
    "                    # plt.subplot(1, 2, 2)\n",
    "                    # plt.imshow(result)\n",
    "                    # plt.title(\"hggh\")\n",
    "\n",
    "                    # soft_label = binary_to_soft_label(result, threshold_value=threshold_value)\n",
    "                    # cv2.imshow(\"kjkj\",soft_label)\n",
    "                    # cv2.waitKey(0)\n",
    "                    # result = cv2.cvtColor(result, cv2.COLOR_BGR2GRAY)\n",
    "\n",
    "                    cv2.imwrite(filename, result)\n",
    "\n",
    "                else:\n",
    "                    result = cv2.imread(filename, 0)\n",
    "                # print(result.type)\n",
    "                # img = cv2.cvtColor(img, cv2.COLOR_BGR2GRAY)\n",
    "                # soft_label = binary_to_soft_label(result)\n",
    "\n",
    "                # normalize the image and mask to have values between 0 and 1\n",
    "                # img = cv2.cvtColor(img, cv2.COLOR_BGR2GRAY)\n",
    "                img = img / 255.0\n",
    "                result= result/ 255.0\n",
    "                # result = result / 255.0\n",
    "                # print(soft_label.shape)\n",
    "                # cv2.imshow(\"dfg\", soft_label)\n",
    "                # cv2.waitKey(0)\n",
    "                # Append the preprocessed data to the respective lists\n",
    "\n",
    "                batch_images.append(img)\n",
    "                batch_masks.append(result)\n",
    "\n",
    "            # Yield the batch data\n",
    "            batch_images = np.array(batch_images)\n",
    "            batch_masks = np.array(batch_masks)\n",
    "\n",
    "            # Visualize the images and masks in the batch\n",
    "            # for j in range(batch_images.shape[0]):\n",
    "            #     plt.subplot(1, 2, 1)\n",
    "            #     plt.imshow(batch_images[j])\n",
    "            #     plt.title(\"Image\")\n",
    "            #\n",
    "            #     plt.subplot(1, 2, 2)\n",
    "            #     plt.imshow(batch_masks[j])\n",
    "            #     plt.title(\"Mask\")\n",
    "            #\n",
    "            #     plt.show()\n",
    "\n",
    "            yield batch_images, batch_masks\n",
    "\n",
    "\n",
    "generator = data_generator(image_paths, mask_paths, 1)\n",
    "\n",
    "for _,imgpath in tqdm(enumerate(image_paths)):\n",
    "   batch = next(generator)"
   ],
   "id": "1a6ed94f6c6ebf8c",
   "outputs": [
    {
     "name": "stderr",
     "output_type": "stream",
     "text": [
      "0it [00:00, ?it/s]"
     ]
    },
    {
     "name": "stdout",
     "output_type": "stream",
     "text": [
      "Number of images: 6\n",
      "Number of masks: 6\n"
     ]
    },
    {
     "name": "stderr",
     "output_type": "stream",
     "text": [
      "6it [00:03,  1.61it/s]\n"
     ]
    }
   ],
   "execution_count": 120
  },
  {
   "metadata": {
    "ExecuteTime": {
     "end_time": "2024-04-17T00:47:28.434760Z",
     "start_time": "2024-04-17T00:47:28.426940Z"
    }
   },
   "cell_type": "code",
   "source": [
    "from PIL import Image\n",
    "import numpy as np\n",
    "\n",
    "# Replace 'path_to_image.png' with the path to your image file\n",
    "img_path = '/home/somayeh/PycharmProjects/superpixel_segmentation/boundary_pixels/breast/before_filling/ground_truth_mask_42.png'\n",
    "# \n",
    "# Load the image and convert it to grayscale\n",
    "img = Image.open(img_path).convert('L')\n",
    "\n",
    "# Convert the image to a numpy array\n",
    "img_array = np.array(img)\n",
    "\n",
    "# Count the black pixels (assuming black pixels have a value of 0)\n",
    "num_black_pixels = np.sum(img_array == 0)\n",
    "\n",
    "print(\"Number of black pixels:\", num_black_pixels)"
   ],
   "id": "6d4290fe87ed64bb",
   "outputs": [
    {
     "name": "stdout",
     "output_type": "stream",
     "text": [
      "Number of black pixels: 9278\n"
     ]
    }
   ],
   "execution_count": 129
  },
  {
   "metadata": {
    "ExecuteTime": {
     "end_time": "2024-04-09T09:01:37.223238Z",
     "start_time": "2024-04-09T09:01:36.024032Z"
    }
   },
   "cell_type": "code",
   "source": [
    "batch_size = 8\n",
    "threshold_value = 128\n",
    "def data_generator(image_paths, mask_paths, batch_size):\n",
    "\n",
    "    assert len(image_paths) == len(mask_paths), \"Number of images and masks must be the same.\"\n",
    "\n",
    "    num_samples = len(image_paths)\n",
    "    print(\"Number of images:\", num_samples)\n",
    "    num_masks = len(mask_paths)\n",
    "    print(\"Number of masks:\", num_masks)\n",
    "\n",
    "    while True:\n",
    "        indices = np.arange(num_samples)\n",
    "        np.random.shuffle(indices)\n",
    "\n",
    "        for i in range(0, num_samples, batch_size):\n",
    "            batch_indices = indices[i : i + batch_size]\n",
    "            batch_images = []\n",
    "            batch_masks = []\n",
    "\n",
    "            for index in batch_indices:\n",
    "                image_path = image_paths[index]\n",
    "                mask_path = mask_paths[index]\n",
    "\n",
    "                img = cv2.imread(image_path)\n",
    "                img = cv2.resize(img, (256, 256))\n",
    "\n",
    "                filename = os.path.join(\"/home/somayeh/PycharmProjects/superpixel_segmentation/best_worst/skin/after_filling\", os.path.basename(mask_path))\n",
    "                if not os.path.exists(filename):\n",
    "\n",
    "                    mask = cv2.imread(mask_path,0)\n",
    "                    mask = cv2.resize(mask, (256, 256))\n",
    "\n",
    "                    result = extended_superpixel(img, mask)\n",
    "                    # result = ground_truth_superpixel_3(img, mask)\n",
    "\n",
    "                    # result = cv2.cvtColor(result, cv2.COLOR_BGR2GRAY)\n",
    "                    # plt.subplot(1, 2, 2)\n",
    "                    # plt.imshow(result)\n",
    "                    # plt.title(\"hggh\")\n",
    "\n",
    "                    # soft_label = binary_to_soft_label(result, threshold_value=threshold_value)\n",
    "                    # cv2.imshow(\"kjkj\",soft_label)\n",
    "                    # cv2.waitKey(0)\n",
    "                    # result = cv2.cvtColor(result, cv2.COLOR_BGR2GRAY)\n",
    "\n",
    "                    cv2.imwrite(filename, result)\n",
    "\n",
    "                else:\n",
    "                    result = cv2.imread(filename, 0)\n",
    "                # print(result.type)\n",
    "                # img = cv2.cvtColor(img, cv2.COLOR_BGR2GRAY)\n",
    "                # soft_label = binary_to_soft_label(result)\n",
    "\n",
    "                # normalize the image and mask to have values between 0 and 1\n",
    "                # img = cv2.cvtColor(img, cv2.COLOR_BGR2GRAY)\n",
    "                img = img / 255.0\n",
    "                result= result/ 255.0\n",
    "                # result = result / 255.0\n",
    "                # print(soft_label.shape)\n",
    "                # cv2.imshow(\"dfg\", soft_label)\n",
    "                # cv2.waitKey(0)\n",
    "                # Append the preprocessed data to the respective lists\n",
    "\n",
    "                batch_images.append(img)\n",
    "                batch_masks.append(result)\n",
    "\n",
    "            # Yield the batch data\n",
    "            batch_images = np.array(batch_images)\n",
    "            batch_masks = np.array(batch_masks)\n",
    "\n",
    "            # Visualize the images and masks in the batch\n",
    "            # for j in range(batch_images.shape[0]):\n",
    "            #     plt.subplot(1, 2, 1)\n",
    "            #     plt.imshow(batch_images[j])\n",
    "            #     plt.title(\"Image\")\n",
    "            #\n",
    "            #     plt.subplot(1, 2, 2)\n",
    "            #     plt.imshow(batch_masks[j])\n",
    "            #     plt.title(\"Mask\")\n",
    "            #\n",
    "            #     plt.show()\n",
    "\n",
    "            yield batch_images, batch_masks\n",
    "\n",
    "\n",
    "generator = data_generator(image_paths, mask_paths, 1)\n",
    "\n",
    "for _,imgpath in tqdm(enumerate(image_paths)):\n",
    "   batch = next(generator)"
   ],
   "id": "234ee827427e82e1",
   "outputs": [
    {
     "name": "stderr",
     "output_type": "stream",
     "text": [
      "0it [00:00, ?it/s]"
     ]
    },
    {
     "name": "stdout",
     "output_type": "stream",
     "text": [
      "Number of images: 3\n",
      "Number of masks: 3\n"
     ]
    },
    {
     "name": "stderr",
     "output_type": "stream",
     "text": [
      "3it [00:01,  2.53it/s]\n"
     ]
    }
   ],
   "execution_count": 80
  },
  {
   "metadata": {},
   "cell_type": "code",
   "outputs": [],
   "execution_count": null,
   "source": "",
   "id": "eeb2b5bdf12aa9d9"
  }
 ],
 "metadata": {
  "kernelspec": {
   "display_name": "Python 3",
   "language": "python",
   "name": "python3"
  },
  "language_info": {
   "codemirror_mode": {
    "name": "ipython",
    "version": 2
   },
   "file_extension": ".py",
   "mimetype": "text/x-python",
   "name": "python",
   "nbconvert_exporter": "python",
   "pygments_lexer": "ipython2",
   "version": "2.7.6"
  }
 },
 "nbformat": 4,
 "nbformat_minor": 5
}
