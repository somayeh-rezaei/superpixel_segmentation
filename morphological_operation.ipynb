{
 "cells": [
  {
   "cell_type": "code",
   "execution_count": 38,
   "outputs": [
    {
     "name": "stdout",
     "output_type": "stream",
     "text": [
      "Boundaries Kept: 31635\n",
      "Boundaries Eroded: 30519\n"
     ]
    }
   ],
   "source": [
    "import cv2\n",
    "import numpy as np\n",
    "import random\n",
    "\n",
    "# Load the ground truth image (replace 'ground_truth.png' with your image file)\n",
    "ground_truth = cv2.imread('/home/somayeh/PycharmProjects/superpixel_segmentation/archive (3)/data/Lung Segmentation/masks/CHNCXR_0001_0.png', 0)\n",
    "ground_truth = cv2.resize(ground_truth, (352, 352))\n",
    "cv2.imshow(\"gt\", ground_truth)\n",
    "cv2.waitKey(0)\n",
    "\n",
    "# Define the foreground (white pixels) and background (black pixels)\n",
    "foreground_value = 255  # White pixels\n",
    "background_value = 0  # Black pixels\n",
    "\n",
    "# Threshold to obtain the foreground mask\n",
    "_, foreground_mask = cv2.threshold(ground_truth, background_value + 1, 255, cv2.THRESH_BINARY)\n",
    "\n",
    "# Find contours in the foreground mask\n",
    "contours, _ = cv2.findContours(foreground_mask, cv2.RETR_EXTERNAL, cv2.CHAIN_APPROX_SIMPLE)\n",
    "\n",
    "# Create a blank mask to draw contours\n",
    "contour_mask = np.zeros_like(foreground_mask)\n",
    "\n",
    "# Draw contours on the mask\n",
    "cv2.drawContours(contour_mask, contours, -1, (255, 255, 255), thickness=cv2.FILLED)\n",
    "\n",
    "# Define the structuring element for dilation\n",
    "kernel = cv2.getStructuringElement(cv2.MORPH_ELLIPSE, (3, 3))  # Example kernel (adjust size as needed)\n",
    "\n",
    "# Dilate the contour mask multiple times with randomly chosen kernels\n",
    "num_dilation_iterations = 5\n",
    "for i in range(num_dilation_iterations):\n",
    "    \n",
    "    dilated_image = cv2.dilate(contour_mask, kernel)\n",
    "    \n",
    "cv2.imshow(\"Dilation image\", dilated_image)\n",
    "cv2.waitKey(0)\n",
    "\n",
    "# Initialize counters for boundaries kept and eroded\n",
    "boundaries_kept = 0\n",
    "boundaries_eroded = 0\n",
    "\n",
    "# Define the number of iterations for dilation and erosion\n",
    "num_erosion_iterations = 2\n",
    "\n",
    "# Threshold to obtain the foreground mask\n",
    "_, foreground_mask_1 = cv2.threshold(dilated_image, background_value + 1, 255, cv2.THRESH_BINARY)\n",
    "\n",
    "# Find contours in the foreground mask\n",
    "contours_1, _ = cv2.findContours(foreground_mask_1, cv2.RETR_EXTERNAL, cv2.CHAIN_APPROX_SIMPLE)\n",
    "\n",
    "# Create a blank mask to draw contours\n",
    "contour_mask_1 = np.zeros_like(foreground_mask_1)\n",
    "\n",
    "# Draw contours on the mask\n",
    "cv2.drawContours(contour_mask_1, contours_1, -1, (255, 255, 255), thickness=cv2.FILLED)\n",
    "\n",
    "# Loop through erosion iterations\n",
    "for i in range(num_erosion_iterations):\n",
    "    random_prob = random.uniform(0, 1)\n",
    "    \n",
    "    if 0 <= random_prob < 0.5:  # Keep the boundary\n",
    "        boundaries_kept += np.sum(contour_mask_1 == 255)\n",
    "    else:  # Perform erosion with a randomly selected kernel size\n",
    "        erosion_kernel_size = random.randint(1, 5)\n",
    "        kernel = cv2.getStructuringElement(cv2.MORPH_ELLIPSE, (erosion_kernel_size, erosion_kernel_size))\n",
    "        contour_mask_1 = cv2.erode(contour_mask_1, kernel)\n",
    "        boundaries_eroded += np.sum(contour_mask_1 == 255)\n",
    "\n",
    "cv2.imshow(\"erode image\", contour_mask_1)\n",
    "cv2.waitKey(0)\n",
    "cv2.destroyAllWindows()\n",
    "\n",
    "# Display the counts of boundaries kept and eroded\n",
    "print(f\"Boundaries Kept: {boundaries_kept}\")\n",
    "print(f\"Boundaries Eroded: {boundaries_eroded}\")\n"
   ],
   "metadata": {
    "collapsed": false,
    "ExecuteTime": {
     "end_time": "2023-11-17T16:56:57.682168945Z",
     "start_time": "2023-11-17T16:56:56.043422808Z"
    }
   },
   "id": "c46c46558f807b5e"
  },
  {
   "cell_type": "code",
   "execution_count": 16,
   "outputs": [],
   "source": [
    "\n",
    "\n",
    "\n",
    "\n",
    "\n",
    "\n"
   ],
   "metadata": {
    "collapsed": false,
    "ExecuteTime": {
     "end_time": "2023-11-17T16:16:08.555100950Z",
     "start_time": "2023-11-17T16:16:08.535618592Z"
    }
   },
   "id": "d221c40c946a5e18"
  },
  {
   "cell_type": "code",
   "execution_count": null,
   "outputs": [],
   "source": [],
   "metadata": {
    "collapsed": false
   },
   "id": "4c1aca4e83e43d79"
  }
 ],
 "metadata": {
  "kernelspec": {
   "display_name": "Python 3",
   "language": "python",
   "name": "python3"
  },
  "language_info": {
   "codemirror_mode": {
    "name": "ipython",
    "version": 2
   },
   "file_extension": ".py",
   "mimetype": "text/x-python",
   "name": "python",
   "nbconvert_exporter": "python",
   "pygments_lexer": "ipython2",
   "version": "2.7.6"
  }
 },
 "nbformat": 4,
 "nbformat_minor": 5
}
