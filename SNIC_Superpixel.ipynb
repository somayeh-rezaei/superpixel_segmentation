{
 "cells": [
  {
   "cell_type": "code",
   "id": "initial_id",
   "metadata": {
    "collapsed": true,
    "ExecuteTime": {
     "end_time": "2024-06-30T12:02:51.546659Z",
     "start_time": "2024-06-30T12:02:51.543964Z"
    }
   },
   "source": [
    "from pysnic.algorithms.snic import snic\n",
    "from pysnic.algorithms.polygonize import polygonize\n",
    "from pysnic.algorithms.ramerDouglasPeucker import RamerDouglasPeucker\n",
    "import cv2\n",
    "import numpy as np"
   ],
   "outputs": [],
   "execution_count": 7
  },
  {
   "metadata": {
    "ExecuteTime": {
     "end_time": "2024-06-30T12:02:57.589575Z",
     "start_time": "2024-06-30T12:02:53.045459Z"
    }
   },
   "cell_type": "code",
   "source": [
    "img = cv2.imread('./ISIC2018_SKIN_DATA/ISIC2018_Task1-2_Training_Input/ISIC_0000000.png')\n",
    "cv2.imshow('img', img)\n",
    "cv2.waitKey(0)\n",
    "cv2.destroyAllWindows()"
   ],
   "id": "c357625a7168b970",
   "outputs": [],
   "execution_count": 8
  },
  {
   "metadata": {
    "ExecuteTime": {
     "end_time": "2024-06-30T12:05:00.165034Z",
     "start_time": "2024-06-30T12:04:39.980214Z"
    }
   },
   "cell_type": "code",
   "source": [
    "# compute segmentation from image\n",
    "number_of_pixels = img.shape[0] * img.shape[1]\n",
    "segmentation, distance_map, centroids = snic(\n",
    "    img, 800, 0.01)\n"
   ],
   "id": "71fd72509f6f2fe0",
   "outputs": [],
   "execution_count": 10
  },
  {
   "metadata": {
    "ExecuteTime": {
     "end_time": "2024-06-30T12:05:04.492003Z",
     "start_time": "2024-06-30T12:05:04.450519Z"
    }
   },
   "cell_type": "code",
   "source": [
    "# Calculate the number of superpixels\n",
    "num_superpixels = len(np.unique(segmentation))\n",
    "print(f'Number of superpixels: {num_superpixels}')"
   ],
   "id": "1ac3a0d9c50b2f1f",
   "outputs": [
    {
     "name": "stdout",
     "output_type": "stream",
     "text": [
      "Number of superpixels: 836\n"
     ]
    }
   ],
   "execution_count": 11
  },
  {
   "metadata": {
    "ExecuteTime": {
     "end_time": "2024-06-30T12:05:32.755853Z",
     "start_time": "2024-06-30T12:05:07.219333Z"
    }
   },
   "cell_type": "code",
   "source": [
    "# Create an output image to visualize the segmentation\n",
    "output = np.zeros_like(img)\n",
    "\n",
    "# Assign a random color to each segment\n",
    "for label in np.unique(segmentation):\n",
    "    mask = segmentation == label\n",
    "    color = np.random.randint(0, 255, size=3)\n",
    "    output[mask] = color\n",
    "\n",
    "# Display the SNIC segmentation result\n",
    "cv2.imshow('SNIC Segmentation', output)\n",
    "cv2.waitKey(0)\n",
    "cv2.destroyAllWindows()\n"
   ],
   "id": "4bc1b71e50042b7b",
   "outputs": [],
   "execution_count": 12
  },
  {
   "metadata": {
    "ExecuteTime": {
     "end_time": "2024-06-30T12:05:58.214198Z",
     "start_time": "2024-06-30T12:05:36.195017Z"
    }
   },
   "cell_type": "code",
   "source": [
    "# Create a copy of the original image to draw the boundaries\n",
    "boundary_image = img.copy()\n",
    "\n",
    "# Draw the boundaries of the superpixels\n",
    "for label in np.unique(segmentation):\n",
    "    mask = segmentation == label\n",
    "    contours, _ = cv2.findContours(mask.astype(np.uint8), cv2.RETR_EXTERNAL, cv2.CHAIN_APPROX_SIMPLE)\n",
    "    cv2.drawContours(boundary_image, contours, -1, (255, 0, 0), 1)  # Blue color in BGR\n",
    "\n",
    "# Display the boundary image\n",
    "cv2.imshow('SNIC Segmentation Boundaries', boundary_image)\n",
    "cv2.waitKey(0)\n",
    "cv2.destroyAllWindows()\n"
   ],
   "id": "bc37f45f7be9a101",
   "outputs": [],
   "execution_count": 13
  },
  {
   "metadata": {},
   "cell_type": "code",
   "outputs": [],
   "execution_count": null,
   "source": "",
   "id": "400d33d17acb803b"
  }
 ],
 "metadata": {
  "kernelspec": {
   "display_name": "Python 3",
   "language": "python",
   "name": "python3"
  },
  "language_info": {
   "codemirror_mode": {
    "name": "ipython",
    "version": 2
   },
   "file_extension": ".py",
   "mimetype": "text/x-python",
   "name": "python",
   "nbconvert_exporter": "python",
   "pygments_lexer": "ipython2",
   "version": "2.7.6"
  }
 },
 "nbformat": 4,
 "nbformat_minor": 5
}
