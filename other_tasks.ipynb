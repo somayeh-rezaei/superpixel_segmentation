{
 "cells": [
  {
   "cell_type": "code",
   "execution_count": 1,
   "id": "initial_id",
   "metadata": {
    "collapsed": true,
    "ExecuteTime": {
     "end_time": "2024-02-06T21:56:42.188625960Z",
     "start_time": "2024-02-06T21:56:39.198230281Z"
    }
   },
   "outputs": [
    {
     "name": "stdout",
     "output_type": "stream",
     "text": [
      "All images have been resized and saved.\n"
     ]
    }
   ],
   "source": [
    "import cv2\n",
    "import os\n",
    "import glob\n",
    "\n",
    "# Specify the directory containing the original images and the directory to save the resized images\n",
    "original_images_dir = ('/home/somayeh/PycharmProjects/superpixel_segmentation/'\n",
    "                       'result_images/unet_rw_skin_slic800/original_images/')\n",
    "resized_images_dir = ('/home/somayeh/PycharmProjects/superpixel_segmentation/'\n",
    "                       'result_images/unet_rw_skin_slic800/resized_original_images/')\n",
    "\n",
    "# Create the directory for resized images if it doesn't exist\n",
    "if not os.path.exists(resized_images_dir):\n",
    "    os.makedirs(resized_images_dir)\n",
    "\n",
    "# Loop through all the image files in the original directory\n",
    "for image_path in glob.glob(os.path.join(original_images_dir, '*.png')):  # Adjust the pattern as needed\n",
    "    # Read the image\n",
    "    image = cv2.imread(image_path)\n",
    "    \n",
    "    # Resize the image\n",
    "    resized_image = cv2.resize(image, (256, 256), interpolation=cv2.INTER_AREA)\n",
    "    \n",
    "    # Save the resized image to the new directory\n",
    "    base_filename = os.path.basename(image_path)\n",
    "    save_path = os.path.join(resized_images_dir, base_filename)\n",
    "    cv2.imwrite(save_path, resized_image)\n",
    "\n",
    "print(\"All images have been resized and saved.\")"
   ]
  },
  {
   "cell_type": "code",
   "outputs": [
    {
     "name": "stdout",
     "output_type": "stream",
     "text": [
      "All images have been processed and saved.\n"
     ]
    }
   ],
   "source": [
    "from skimage import io\n",
    "from skimage.segmentation import mark_boundaries\n",
    "from skimage.measure import label\n",
    "import os\n",
    "import cv2\n",
    "import numpy as np\n",
    "\n",
    "# Paths to the directories containing the original images and their corresponding ground truth masks\n",
    "original_images_dir = '/home/somayeh/PycharmProjects/superpixel_segmentation/result_images/unet_rw_breast_slic800/original_images/'\n",
    "ground_truths_dir = '/home/somayeh/PycharmProjects/superpixel_segmentation/result_images/unet_rw_breast_slic800/original_masks/'\n",
    "output_dir = '/home/somayeh/PycharmProjects/superpixel_segmentation/result_images/unet_rw_breast_slic800/original_image_with_boundary/'\n",
    "\n",
    "# Create the output directory if it doesn't exist\n",
    "if not os.path.exists(output_dir):\n",
    "    os.makedirs(output_dir)\n",
    "\n",
    "# Process images from 0 to 999\n",
    "for i in range(69):\n",
    "    # Construct filenames based on the given naming convention\n",
    "    original_filename = f\"original_image_{i}.png\"\n",
    "    ground_truth_filename = f\"ground_truth_mask_{i}.png\"\n",
    "\n",
    "    # Construct the full path to the original image and its corresponding ground truth mask\n",
    "    image_path = os.path.join(original_images_dir, original_filename)\n",
    "    ground_truth_path = os.path.join(ground_truths_dir, ground_truth_filename)\n",
    "\n",
    "    # Read the original image and ground truth mask\n",
    "    original_image = io.imread(image_path)\n",
    "    ground_truth_mask = io.imread(ground_truth_path, as_gray=True)  # Ensure it's read in grayscale\n",
    "\n",
    "    # Label the binary mask\n",
    "    labeled_mask = label(ground_truth_mask > 0)  # Convert to labeled mask assuming binary with foreground > 0\n",
    "\n",
    "    # Mark the boundaries on the original image\n",
    "    marked_image = mark_boundaries(original_image, labeled_mask, color=(1, 0, 0), mode='thick')\n",
    "\n",
    "    # Convert the marked image from RGB to BGR for OpenCV\n",
    "    marked_image_bgr = marked_image[:, :, [2, 1, 0]]  # Reorder the color channels\n",
    "\n",
    "    # Convert float [0, 1] to uint8 [0, 255]\n",
    "    marked_image_bgr = (marked_image_bgr * 255).astype(np.uint8)\n",
    "\n",
    "    # Save the result using cv2\n",
    "    output_path = os.path.join(output_dir, original_filename)  # Save with the original image's name for consistency\n",
    "    cv2.imwrite(output_path, marked_image_bgr)\n",
    "\n",
    "print(\"All images have been processed and saved.\")"
   ],
   "metadata": {
    "collapsed": false,
    "ExecuteTime": {
     "end_time": "2024-02-07T01:14:02.982711034Z",
     "start_time": "2024-02-07T01:14:02.818721961Z"
    }
   },
   "id": "be6d7c07212d1ddb",
   "execution_count": 7
  },
  {
   "cell_type": "code",
   "outputs": [],
   "source": [],
   "metadata": {
    "collapsed": false
   },
   "id": "2bd18893e7afe36e"
  }
 ],
 "metadata": {
  "kernelspec": {
   "display_name": "Python 3",
   "language": "python",
   "name": "python3"
  },
  "language_info": {
   "codemirror_mode": {
    "name": "ipython",
    "version": 2
   },
   "file_extension": ".py",
   "mimetype": "text/x-python",
   "name": "python",
   "nbconvert_exporter": "python",
   "pygments_lexer": "ipython2",
   "version": "2.7.6"
  }
 },
 "nbformat": 4,
 "nbformat_minor": 5
}
