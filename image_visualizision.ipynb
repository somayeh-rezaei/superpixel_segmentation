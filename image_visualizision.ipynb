{
 "cells": [
  {
   "cell_type": "code",
   "execution_count": null,
   "id": "initial_id",
   "metadata": {
    "collapsed": true,
    "ExecuteTime": {
     "start_time": "2024-01-24T10:33:24.904752161Z"
    }
   },
   "outputs": [],
   "source": [
    "import SimpleITK as sitk\n",
    "import matplotlib.pyplot as plt\n",
    "import nibabel as nib\n",
    "import cv2\n",
    "import numpy as np\n",
    "import os\n",
    "\n",
    "# Load NIfTI image\n",
    "# image_path = '/home/somayeh/Downloads/IXI-T1/IXI012-HH-1211-T1.nii.gz'\n",
    "# image = sitk.ReadImage(image_path)\n",
    "# \n",
    "# # Convert to NumPy array for visualization\n",
    "# image_array = sitk.GetArrayFromImage(image)\n",
    "# \n",
    "# # Display a slice (you can modify the slice index)\n",
    "# plt.imshow(image_array[0, :, :])\n",
    "# plt.show()\n",
    "\n",
    "\n",
    "\n",
    "# Path to the folder containing NIfTI images\n",
    "folder_path = '/home/somayeh/Downloads/IXI-T1/'\n",
    "\n",
    "# List all NIfTI files in the folder\n",
    "nifti_files = [f for f in os.listdir(folder_path) if f.endswith('.nii.gz')]\n",
    "\n",
    "# Loop through each NIfTI file and display slices\n",
    "for nifti_file in nifti_files:\n",
    "    # Load NIfTI image\n",
    "    image_path = os.path.join(folder_path, nifti_file)\n",
    "    nifti_img = nib.load(image_path)\n",
    "\n",
    "    # Get the image data as a NumPy array\n",
    "    img_data = nifti_img.get_fdata()\n",
    "\n",
    "    # Assuming a 3D volume, choose a slice to visualize (modify the slice index)\n",
    "    slice_index = 0\n",
    "    slice_to_show = img_data[:, :, slice_index]\n",
    "\n",
    "    # Normalize the pixel values to the range [0, 255] for visualization\n",
    "    normalized_slice = cv2.normalize(slice_to_show, None, 0, 255, cv2.NORM_MINMAX)\n",
    "\n",
    "    # Convert to uint8 for OpenCV visualization\n",
    "    uint8_slice = np.uint8(normalized_slice)\n",
    "\n",
    "    # Display the slice using OpenCV\n",
    "    cv2.imshow('NIfTI Image', uint8_slice)\n",
    "    cv2.waitKey(0)\n",
    "\n",
    "# Close OpenCV window after processing all images\n",
    "cv2.destroyAllWindows()"
   ]
  },
  {
   "cell_type": "code",
   "outputs": [],
   "source": [],
   "metadata": {
    "collapsed": false
   },
   "id": "a8c1f64a3a2ff90b"
  }
 ],
 "metadata": {
  "kernelspec": {
   "display_name": "Python 3",
   "language": "python",
   "name": "python3"
  },
  "language_info": {
   "codemirror_mode": {
    "name": "ipython",
    "version": 2
   },
   "file_extension": ".py",
   "mimetype": "text/x-python",
   "name": "python",
   "nbconvert_exporter": "python",
   "pygments_lexer": "ipython2",
   "version": "2.7.6"
  }
 },
 "nbformat": 4,
 "nbformat_minor": 5
}
