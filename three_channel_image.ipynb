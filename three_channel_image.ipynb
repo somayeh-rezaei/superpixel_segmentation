{
 "cells": [
  {
   "cell_type": "code",
   "execution_count": 4,
   "id": "initial_id",
   "metadata": {
    "collapsed": true,
    "ExecuteTime": {
     "end_time": "2024-01-25T11:44:22.283768295Z",
     "start_time": "2024-01-25T11:44:22.241036041Z"
    }
   },
   "outputs": [],
   "source": [
    "import os\n",
    "\n",
    "folder_path = '/home/somayeh/PycharmProjects/superpixel_segmentation/archive (2)/Dataset_BUSI_with_GT/breast_test_mask'  # Replace this with the path to your folder containing the PNG images\n",
    "\n",
    "# Get a list of all files in the folder\n",
    "file_list = os.listdir(folder_path)\n",
    "\n",
    "# Iterate through the files in the folder\n",
    "for filename in file_list:\n",
    "    if filename.endswith('_mask.png'):\n",
    "        # Create the new filename by removing the '_mask' part\n",
    "        new_filename = filename.replace('_mask.png', '.png')\n",
    "\n",
    "        # Construct the full paths for the old and new filenames\n",
    "        old_filepath = os.path.join(folder_path, filename)\n",
    "        new_filepath = os.path.join(folder_path, new_filename)\n",
    "\n",
    "        # Rename the file\n",
    "        os.rename(old_filepath, new_filepath)\n",
    "        \n",
    "# folder_2_path = '/home/somayeh/PycharmProjects/superpixel_segmentation/archive (3)/data/Lung Segmentation/CXR_png'  # Replace this with the path to your second folder containing 800 images\n",
    "\n",
    "# # Get lists of files in both folders\n",
    "# folder_1_files = os.listdir(folder_1_path)\n",
    "# folder_2_files = os.listdir(folder_2_path)\n",
    "# \n",
    "# # Find files in the second folder that are not in the first folder\n",
    "# extra_files_in_folder_2 = set(folder_2_files) - set(folder_1_files)\n",
    "# \n",
    "# # Delete extra files from the second folder\n",
    "# for extra_file in extra_files_in_folder_2:\n",
    "#     extra_file_path = os.path.join(folder_2_path, extra_file)\n",
    "#     os.remove(extra_file_path)\n",
    "#     print(f\"Deleted {extra_file_path}\")       \n",
    "    \n",
    "# # Get lists of files in both folders\n",
    "# folder_1_files = sorted(os.listdir(folder_1_path))\n",
    "# folder_2_files = sorted(os.listdir(folder_2_path))\n",
    "# \n",
    "# # Determine the maximum number of files between the two folders\n",
    "# max_length = max(len(folder_1_files), len(folder_2_files))\n",
    "# \n",
    "# # Print the names of images in both folders side by side\n",
    "# print(\"Files in Folder 1       |       Files in Folder 2\")\n",
    "# print(\"-----------------------------------------------\")\n",
    "# \n",
    "# for i in range(max_length):\n",
    "#     if i < len(folder_1_files):\n",
    "#         file_1 = folder_1_files[i]\n",
    "#     else:\n",
    "#         file_1 = \" \" * len(max(folder_1_files, key=len))  # Print empty spaces if no file in Folder 1\n",
    "#     \n",
    "#     if i < len(folder_2_files):\n",
    "#         file_2 = folder_2_files[i]\n",
    "#     else:\n",
    "#         file_2 = \" \" * len(max(folder_2_files, key=len))  # Print empty spaces if no file in Folder 2\n",
    "#     \n",
    "#     print(f\"{file_1.ljust(25)} | {file_2}\")    \n"
   ]
  },
  {
   "cell_type": "code",
   "execution_count": null,
   "outputs": [],
   "source": [],
   "metadata": {
    "collapsed": false
   },
   "id": "9b690a01489e2536"
  }
 ],
 "metadata": {
  "kernelspec": {
   "display_name": "Python 3",
   "language": "python",
   "name": "python3"
  },
  "language_info": {
   "codemirror_mode": {
    "name": "ipython",
    "version": 2
   },
   "file_extension": ".py",
   "mimetype": "text/x-python",
   "name": "python",
   "nbconvert_exporter": "python",
   "pygments_lexer": "ipython2",
   "version": "2.7.6"
  }
 },
 "nbformat": 4,
 "nbformat_minor": 5
}
