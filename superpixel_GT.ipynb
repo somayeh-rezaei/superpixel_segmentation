{
 "cells": [
  {
   "cell_type": "code",
   "execution_count": 9,
   "outputs": [
    {
     "name": "stderr",
     "output_type": "stream",
     "text": [
      "2023-11-07 22:13:08.773739: I tensorflow/core/platform/cpu_feature_guard.cc:193] This TensorFlow binary is optimized with oneAPI Deep Neural Network Library (oneDNN) to use the following CPU instructions in performance-critical operations:  AVX2 AVX512F AVX512_VNNI FMA\n",
      "To enable them in other operations, rebuild TensorFlow with the appropriate compiler flags.\n",
      "2023-11-07 22:13:08.971965: I tensorflow/core/util/port.cc:104] oneDNN custom operations are on. You may see slightly different numerical results due to floating-point round-off errors from different computation orders. To turn them off, set the environment variable `TF_ENABLE_ONEDNN_OPTS=0`.\n",
      "2023-11-07 22:13:09.833731: W tensorflow/compiler/xla/stream_executor/platform/default/dso_loader.cc:64] Could not load dynamic library 'libnvinfer.so.7'; dlerror: libnvinfer.so.7: cannot open shared object file: No such file or directory; LD_LIBRARY_PATH: /home/somayeh/PycharmProjects/superpixel_segmentation/venv/lib/python3.8/site-packages/cv2/../../lib64:\n",
      "2023-11-07 22:13:09.833993: W tensorflow/compiler/xla/stream_executor/platform/default/dso_loader.cc:64] Could not load dynamic library 'libnvinfer_plugin.so.7'; dlerror: libnvinfer_plugin.so.7: cannot open shared object file: No such file or directory; LD_LIBRARY_PATH: /home/somayeh/PycharmProjects/superpixel_segmentation/venv/lib/python3.8/site-packages/cv2/../../lib64:\n",
      "2023-11-07 22:13:09.834030: W tensorflow/compiler/tf2tensorrt/utils/py_utils.cc:38] TF-TRT Warning: Cannot dlopen some TensorRT libraries. If you would like to use Nvidia GPU with TensorRT, please make sure the missing libraries mentioned above are installed properly.\n"
     ]
    }
   ],
   "source": [
    "from skimage.color import label2rgb, rgb2gray\n",
    "from skimage.segmentation import mark_boundaries\n",
    "import numpy as np\n",
    "import tensorflow as tf\n",
    "import os\n",
    "import cv2\n",
    "import glob\n",
    "import matplotlib.pyplot as plt\n",
    "from keras.layers import *\n",
    "from keras.callbacks import ModelCheckpoint, EarlyStopping, ReduceLROnPlateau\n",
    "from sklearn.model_selection import train_test_split\n",
    "from skimage.morphology import binary_erosion, disk\n",
    "import keras.backend as K\n",
    "from skimage.segmentation import felzenszwalb, slic, quickshift, watershed\n",
    "from keras.callbacks import TensorBoard\n",
    "from keras.layers import Input, Conv2D, MaxPooling2D, Conv2DTranspose, concatenate\n",
    "from keras.models import Model\n",
    "from tqdm import tqdm"
   ],
   "metadata": {
    "collapsed": false,
    "ExecuteTime": {
     "end_time": "2023-11-07T21:13:11.153484085Z",
     "start_time": "2023-11-07T21:13:08.325510007Z"
    }
   }
  },
  {
   "cell_type": "code",
   "execution_count": 10,
   "outputs": [],
   "source": [
    "image_paths = glob.glob( '/home/somayeh/Desktop/image sets/resized_original_image/*.png')\n",
    "mask_paths = glob.glob(\"/home/somayeh/Desktop/image sets/resized_original_GT/*.png\")"
   ],
   "metadata": {
    "collapsed": false,
    "ExecuteTime": {
     "end_time": "2023-11-07T21:13:11.163246372Z",
     "start_time": "2023-11-07T21:13:11.158060937Z"
    }
   }
  },
  {
   "cell_type": "code",
   "execution_count": 11,
   "outputs": [],
   "source": [
    "# initialize empty arrays to hold the images and masks\n",
    "images = []\n",
    "masks = []\n",
    "images_superpixel = []\n",
    "binary_masks = []\n",
    "masks_superpixel = []\n",
    "masks_result = []\n",
    "binary = []"
   ],
   "metadata": {
    "collapsed": false,
    "ExecuteTime": {
     "end_time": "2023-11-07T21:13:18.251913405Z",
     "start_time": "2023-11-07T21:13:18.231255163Z"
    }
   }
  },
  {
   "cell_type": "code",
   "execution_count": 12,
   "outputs": [],
   "source": [
    "def create_superpixel_ground_truth(img, ground_truth):\n",
    "\n",
    "    # Perform superpixel segmentation\n",
    "    num_segments = 800\n",
    "    segments = slic(img, n_segments=num_segments, compactness=10)\n",
    "\n",
    "    image_superpixel = label2rgb(segments, img, kind='avg')\n",
    "    image_superpixel = rgb2gray(image_superpixel)\n",
    "    num_superpixels = len(np.unique(segments))\n",
    "\n",
    "    image_boundaries = mark_boundaries(img, segments, color=(255, 0, 0))\n",
    "    labels = segments.astype(np.int32)\n",
    "\n",
    "    # Overlay superpixels with ground truth\n",
    "    inside_mask = (ground_truth == 255)  # White pixels in ground truth are inside the region\n",
    "    outside_mask = (ground_truth == 0)  # Black pixels in ground truth are outside the region\n",
    "    boundary_mask = cv2.morphologyEx(ground_truth, cv2.MORPH_GRADIENT, np.ones((3, 3), np.uint8)) > 0\n",
    "\n",
    "    inside_superpixels = set(np.unique(labels[inside_mask]))\n",
    "    outside_superpixels = set(np.unique(labels[outside_mask]))\n",
    "    boundary_superpixels = set(np.unique(labels[boundary_mask]))\n",
    "\n",
    "    # Exclude boundary superpixels\n",
    "    valid_superpixels = list(outside_superpixels.union(inside_superpixels) - boundary_superpixels)\n",
    "\n",
    "    for label in boundary_superpixels:\n",
    "        mask = (labels == label)\n",
    "        # Check if the superpixel intersects with the boundary\n",
    "        if np.any(mask[0, :]) or np.any(mask[-1, :]) or np.any(mask[:, 0]) or np.any(mask[:, -1]):\n",
    "            boundary_mask_ = binary_erosion(boundary_mask, disk(3))\n",
    "            valid_superpixels = list(outside_superpixels.union(inside_superpixels) - set(labels[boundary_mask_]))\n",
    "\n",
    "    num_segments_result = len(np.unique(valid_superpixels))\n",
    "\n",
    "    # Assign labels and color superpixels\n",
    "    result = np.zeros_like(img)\n",
    "    inside_labels = []\n",
    "    outside_labels = []\n",
    "    for label in valid_superpixels:\n",
    "        mask = (labels == label)\n",
    "        if label in inside_superpixels:\n",
    "            color = (255, 255, 255)  # Yellow for inside superpixels\n",
    "            inside_labels.append(label)\n",
    "        else:\n",
    "            color = (128, 128, 128)  # Blue for outside superpixels\n",
    "            outside_labels.append(label)\n",
    "        result[mask] = color\n",
    "\n",
    "    # Count superpixels that intersect with the boundary\n",
    "    boundary_intersecting_superpixels = np.unique(labels[boundary_mask])\n",
    "    num_boundary_intersecting_superpixels = len(boundary_intersecting_superpixels)\n",
    "\n",
    "    return result"
   ],
   "metadata": {
    "collapsed": false,
    "ExecuteTime": {
     "end_time": "2023-11-07T21:13:31.659895333Z",
     "start_time": "2023-11-07T21:13:31.633774675Z"
    }
   }
  },
  {
   "cell_type": "code",
   "execution_count": null,
   "outputs": [],
   "source": [
    "batch_size = 8\n",
    "threshold_value = 128\n",
    "def data_generator(image_paths, mask_paths, batch_size):\n",
    "\n",
    "    assert len(image_paths) == len(mask_paths), \"Number of images and masks must be the same.\"\n",
    "\n",
    "    num_samples = len(image_paths)\n",
    "    print(\"Number of images:\", num_samples)\n",
    "    num_masks = len(mask_paths)\n",
    "    print(\"Number of masks:\", num_masks)\n",
    "\n",
    "    while True:\n",
    "        indices = np.arange(num_samples)\n",
    "        np.random.shuffle(indices)\n",
    "\n",
    "        for i in range(0, num_samples, batch_size):\n",
    "            batch_indices = indices[i : i + batch_size]\n",
    "            batch_images = []\n",
    "            batch_masks = []\n",
    "\n",
    "            for index in batch_indices:\n",
    "                image_path = image_paths[index]\n",
    "                mask_path = mask_paths[index]\n",
    "\n",
    "                img = cv2.imread(image_path)\n",
    "                img = cv2.resize(img, (256, 256))\n",
    "\n",
    "                filename = os.path.join(\"/home/somayeh/Desktop/image sets/new_gt\", os.path.basename(mask_path))\n",
    "                if not os.path.exists(filename):\n",
    "\n",
    "                    mask = cv2.imread(mask_path,0)\n",
    "                    mask = cv2.resize(mask, (256, 256))\n",
    "\n",
    "                    result = create_superpixel_ground_truth(img, mask)\n",
    "                    # result = ground_truth_superpixel_3(img, mask)\n",
    "\n",
    "                    # result = cv2.cvtColor(result, cv2.COLOR_BGR2GRAY)\n",
    "                    # plt.subplot(1, 2, 2)\n",
    "                    # plt.imshow(result)\n",
    "                    # plt.title(\"hggh\")\n",
    "\n",
    "                    # soft_label = binary_to_soft_label(result, threshold_value=threshold_value)\n",
    "                    # cv2.imshow(\"kjkj\",soft_label)\n",
    "                    # cv2.waitKey(0)\n",
    "                    # result = cv2.cvtColor(result, cv2.COLOR_BGR2GRAY)\n",
    "\n",
    "                    cv2.imwrite(filename, result)\n",
    "\n",
    "                else:\n",
    "                    result = cv2.imread(filename, 0)\n",
    "                # print(result.type)\n",
    "                # img = cv2.cvtColor(img, cv2.COLOR_BGR2GRAY)\n",
    "                # soft_label = binary_to_soft_label(result)\n",
    "\n",
    "                # normalize the image and mask to have values between 0 and 1\n",
    "                # img = cv2.cvtColor(img, cv2.COLOR_BGR2GRAY)\n",
    "                img = img / 255.0\n",
    "                result= result/ 255.0\n",
    "                # result = result / 255.0\n",
    "                # print(soft_label.shape)\n",
    "                # cv2.imshow(\"dfg\", soft_label)\n",
    "                # cv2.waitKey(0)\n",
    "                # Append the preprocessed data to the respective lists\n",
    "\n",
    "                batch_images.append(img)\n",
    "                batch_masks.append(result)\n",
    "\n",
    "            # Yield the batch data\n",
    "            batch_images = np.array(batch_images)\n",
    "            batch_masks = np.array(batch_masks)\n",
    "\n",
    "            # Visualize the images and masks in the batch\n",
    "            # for j in range(batch_images.shape[0]):\n",
    "            #     plt.subplot(1, 2, 1)\n",
    "            #     plt.imshow(batch_images[j])\n",
    "            #     plt.title(\"Image\")\n",
    "            #\n",
    "            #     plt.subplot(1, 2, 2)\n",
    "            #     plt.imshow(batch_masks[j])\n",
    "            #     plt.title(\"Mask\")\n",
    "            #\n",
    "            #     plt.show()\n",
    "\n",
    "            yield batch_images, batch_masks\n",
    "\n",
    "\n",
    "generator = data_generator(image_paths, mask_paths, 1)\n",
    "\n",
    "for _,imgpath in tqdm(enumerate(image_paths)):\n",
    "   batch = next(generator)"
   ],
   "metadata": {
    "collapsed": false
   }
  }
 ],
 "metadata": {
  "kernelspec": {
   "display_name": "Python 3",
   "language": "python",
   "name": "python3"
  },
  "language_info": {
   "codemirror_mode": {
    "name": "ipython",
    "version": 2
   },
   "file_extension": ".py",
   "mimetype": "text/x-python",
   "name": "python",
   "nbconvert_exporter": "python",
   "pygments_lexer": "ipython2",
   "version": "2.7.6"
  }
 },
 "nbformat": 4,
 "nbformat_minor": 0
}
