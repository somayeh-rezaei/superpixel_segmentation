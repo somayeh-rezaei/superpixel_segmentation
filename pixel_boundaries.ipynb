{
 "cells": [
  {
   "metadata": {
    "ExecuteTime": {
     "end_time": "2024-04-16T09:11:47.451321Z",
     "start_time": "2024-04-16T09:11:47.446220Z"
    }
   },
   "cell_type": "code",
   "source": [
    "import cv2\n",
    "import numpy as np\n",
    "import glob\n",
    "from skimage.segmentation import slic, find_boundaries\n",
    "from skimage.color import label2rgb"
   ],
   "id": "919a9d042a151776",
   "outputs": [],
   "execution_count": 4
  },
  {
   "metadata": {
    "ExecuteTime": {
     "end_time": "2024-04-16T09:11:51.591578Z",
     "start_time": "2024-04-16T09:11:47.967223Z"
    }
   },
   "cell_type": "code",
   "source": [
    "def classify_pixels(original_image_path, mask_image_path):\n",
    "    # Load images\n",
    "    original_image = cv2.imread(original_image_path, cv2.IMREAD_COLOR)\n",
    "    original_image = cv2.resize(original_image, (256, 256))\n",
    "    mask_image = cv2.imread(mask_image_path, cv2.IMREAD_GRAYSCALE)\n",
    "    mask_image = cv2.resize(mask_image, (256, 256))\n",
    "\n",
    "    # Prepare an output image with the same dimensions and type as the mask\n",
    "    output_image = np.zeros_like(mask_image)\n",
    "\n",
    "    # Get the dimensions of the image\n",
    "    rows, cols = mask_image.shape\n",
    "\n",
    "    # Iterate over each pixel in the mask\n",
    "    for i in range(1, rows - 1):\n",
    "        for j in range(1, cols - 1):\n",
    "            # Current pixel and its 8 neighbors\n",
    "            current_pixel = mask_image[i, j]\n",
    "            neighborhood = mask_image[i-1:i+2, j-1:j+2]\n",
    "\n",
    "            # Check if all neighbors are the same as the current pixel\n",
    "            if np.all(neighborhood == current_pixel):\n",
    "                # If current pixel is foreground and all neighbors are also foreground\n",
    "                if current_pixel == 255:\n",
    "                    output_image[i, j] = 255  # White\n",
    "                else:\n",
    "                    output_image[i, j] = 128  # Gray for background\n",
    "            else:\n",
    "                output_image[i, j] = 0  # Black for boundary\n",
    "\n",
    "    return output_image\n",
    "\n",
    "# Paths (mocked paths for demonstration; replace these with your actual paths)\n",
    "original_image_paths = glob.glob('/home/somayeh/PycharmProjects/superpixel_segmentation/boundary_pixels/skin/original_image/*.png')\n",
    "mask_image_paths = glob.glob('/home/somayeh/PycharmProjects/superpixel_segmentation/boundary_pixels/skin/original_mask/*.png')\n",
    "\n",
    "# # Process each pair of image and mask\n",
    "# for original_path, mask_path in zip(original_image_paths, mask_image_paths):\n",
    "#     result_image = classify_pixels(original_path, mask_path)\n",
    "#     # Save or display result_image as needed\n",
    "#     Example: cv2.imshow('Result', result_image)\n",
    "#     cv2.waitKey(0)\n",
    "#     cv2.destroyAllWindows()\n",
    "    \n",
    "for original_path, mask_path in zip(original_image_paths, mask_image_paths):\n",
    "    result_image = classify_pixels(original_path, mask_path)\n",
    "    # Construct a save path for the result image\n",
    "    save_path = original_path.replace('original_image', 'processed_results').replace('.png', '_result.png')\n",
    "    cv2.imwrite(save_path, result_image)  # Save the processed image"
   ],
   "id": "af3753725377f814",
   "outputs": [],
   "execution_count": 5
  },
  {
   "metadata": {
    "ExecuteTime": {
     "start_time": "2024-04-15T07:15:28.894270Z"
    }
   },
   "cell_type": "code",
   "source": [
    "def classify_and_superpixels(original_image_path, mask_image_path):\n",
    "    # Load images\n",
    "    original_image = cv2.imread(original_image_path, cv2.IMREAD_COLOR)\n",
    "    mask_image = cv2.imread(mask_image_path, cv2.IMREAD_GRAYSCALE)\n",
    "\n",
    "    # Process the mask image to get the classified image\n",
    "    output_image = np.zeros_like(mask_image)\n",
    "\n",
    "    rows, cols = mask_image.shape\n",
    "    for i in range(1, rows - 1):\n",
    "        for j in range(1, cols - 1):\n",
    "            current_pixel = mask_image[i, j]\n",
    "            neighborhood = mask_image[i-1:i+2, j-1:j+2]\n",
    "\n",
    "            if np.all(neighborhood == current_pixel):\n",
    "                if current_pixel == 255:\n",
    "                    output_image[i, j] = 255  # White\n",
    "                else:\n",
    "                    output_image[i, j] = 128  # Gray\n",
    "            else:\n",
    "                output_image[i, j] = 0  # Black\n",
    "\n",
    "    # Apply SLIC superpixel segmentation\n",
    "    segments = slic(original_image, n_segments=1200, compactness=10, sigma=1)\n",
    "\n",
    "    # Create a boundary map from SLIC segments\n",
    "    boundaries = find_boundaries(segments, mode='thin')\n",
    "\n",
    "    # Convert output image to color (3 channels) for visualization\n",
    "    colored_output = cv2.cvtColor(output_image, cv2.COLOR_GRAY2BGR)\n",
    "\n",
    "    # Draw boundaries: set to blue color\n",
    "    colored_output[boundaries] = [255, 0, 0]  # Blue\n",
    "\n",
    "    return colored_output\n",
    "\n",
    "# Paths\n",
    "original_image_paths = glob.glob('/home/somayeh/PycharmProjects/superpixel_segmentation/best_worst/chest/original_image/*.png')\n",
    "mask_image_paths = glob.glob('/home/somayeh/PycharmProjects/superpixel_segmentation/best_worst/chest/original_mask/*.png')\n",
    "\n",
    "# Process each pair of image and mask\n",
    "for original_path, mask_path in zip(original_image_paths, mask_image_paths):\n",
    "    result_image = classify_and_superpixels(original_path, mask_path)\n",
    "    # Here you can save or display the result image\n",
    "    cv2.imshow('Superpixel Classifications', result_image)\n",
    "    cv2.waitKey(0)\n",
    "    cv2.destroyAllWindows()"
   ],
   "id": "e08b1b85d19fd7ee",
   "outputs": [],
   "execution_count": null
  },
  {
   "metadata": {},
   "cell_type": "code",
   "outputs": [],
   "execution_count": null,
   "source": "",
   "id": "5fd87d4cee464329"
  }
 ],
 "metadata": {
  "kernelspec": {
   "display_name": "Python 3",
   "language": "python",
   "name": "python3"
  },
  "language_info": {
   "codemirror_mode": {
    "name": "ipython",
    "version": 2
   },
   "file_extension": ".py",
   "mimetype": "text/x-python",
   "name": "python",
   "nbconvert_exporter": "python",
   "pygments_lexer": "ipython2",
   "version": "2.7.6"
  }
 },
 "nbformat": 4,
 "nbformat_minor": 5
}
